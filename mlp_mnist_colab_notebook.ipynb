{
  "cells": [
    {
      "cell_type": "markdown",
      "metadata": {
        "id": "view-in-github",
        "colab_type": "text"
      },
      "source": [
        "<a href=\"https://colab.research.google.com/github/KonstantinosParaskevopoulos/Free-Time-Projects/blob/main/mlp_mnist_colab_notebook.ipynb\" target=\"_parent\"><img src=\"https://colab.research.google.com/assets/colab-badge.svg\" alt=\"Open In Colab\"/></a>"
      ]
    },
    {
      "cell_type": "markdown",
      "id": "0239ce43",
      "metadata": {
        "id": "0239ce43"
      },
      "source": [
        "# MLP MNIST 9x9 (Google Colab Edition)\n",
        "\n",
        "Αυτό το notebook τρέχει πλήρως το project στο Colab, με χρήση GPU."
      ]
    },
    {
      "cell_type": "code",
      "execution_count": 1,
      "id": "7c107b72",
      "metadata": {
        "id": "7c107b72"
      },
      "outputs": [],
      "source": [
        "# Ενεργοποίηση GPU (βεβαιώσου ότι στο Runtime → Change runtime type → GPU είναι επιλεγμένο)"
      ]
    },
    {
      "cell_type": "code",
      "execution_count": 2,
      "id": "760ab10c",
      "metadata": {
        "colab": {
          "base_uri": "https://localhost:8080/",
          "height": 73
        },
        "id": "760ab10c",
        "outputId": "2f9b0564-03aa-492f-b5ce-8cf16492912b"
      },
      "outputs": [
        {
          "output_type": "display_data",
          "data": {
            "text/plain": [
              "<IPython.core.display.HTML object>"
            ],
            "text/html": [
              "\n",
              "     <input type=\"file\" id=\"files-d2f13e5d-f15a-4fbc-9aba-5023df8af0ea\" name=\"files[]\" multiple disabled\n",
              "        style=\"border:none\" />\n",
              "     <output id=\"result-d2f13e5d-f15a-4fbc-9aba-5023df8af0ea\">\n",
              "      Upload widget is only available when the cell has been executed in the\n",
              "      current browser session. Please rerun this cell to enable.\n",
              "      </output>\n",
              "      <script>// Copyright 2017 Google LLC\n",
              "//\n",
              "// Licensed under the Apache License, Version 2.0 (the \"License\");\n",
              "// you may not use this file except in compliance with the License.\n",
              "// You may obtain a copy of the License at\n",
              "//\n",
              "//      http://www.apache.org/licenses/LICENSE-2.0\n",
              "//\n",
              "// Unless required by applicable law or agreed to in writing, software\n",
              "// distributed under the License is distributed on an \"AS IS\" BASIS,\n",
              "// WITHOUT WARRANTIES OR CONDITIONS OF ANY KIND, either express or implied.\n",
              "// See the License for the specific language governing permissions and\n",
              "// limitations under the License.\n",
              "\n",
              "/**\n",
              " * @fileoverview Helpers for google.colab Python module.\n",
              " */\n",
              "(function(scope) {\n",
              "function span(text, styleAttributes = {}) {\n",
              "  const element = document.createElement('span');\n",
              "  element.textContent = text;\n",
              "  for (const key of Object.keys(styleAttributes)) {\n",
              "    element.style[key] = styleAttributes[key];\n",
              "  }\n",
              "  return element;\n",
              "}\n",
              "\n",
              "// Max number of bytes which will be uploaded at a time.\n",
              "const MAX_PAYLOAD_SIZE = 100 * 1024;\n",
              "\n",
              "function _uploadFiles(inputId, outputId) {\n",
              "  const steps = uploadFilesStep(inputId, outputId);\n",
              "  const outputElement = document.getElementById(outputId);\n",
              "  // Cache steps on the outputElement to make it available for the next call\n",
              "  // to uploadFilesContinue from Python.\n",
              "  outputElement.steps = steps;\n",
              "\n",
              "  return _uploadFilesContinue(outputId);\n",
              "}\n",
              "\n",
              "// This is roughly an async generator (not supported in the browser yet),\n",
              "// where there are multiple asynchronous steps and the Python side is going\n",
              "// to poll for completion of each step.\n",
              "// This uses a Promise to block the python side on completion of each step,\n",
              "// then passes the result of the previous step as the input to the next step.\n",
              "function _uploadFilesContinue(outputId) {\n",
              "  const outputElement = document.getElementById(outputId);\n",
              "  const steps = outputElement.steps;\n",
              "\n",
              "  const next = steps.next(outputElement.lastPromiseValue);\n",
              "  return Promise.resolve(next.value.promise).then((value) => {\n",
              "    // Cache the last promise value to make it available to the next\n",
              "    // step of the generator.\n",
              "    outputElement.lastPromiseValue = value;\n",
              "    return next.value.response;\n",
              "  });\n",
              "}\n",
              "\n",
              "/**\n",
              " * Generator function which is called between each async step of the upload\n",
              " * process.\n",
              " * @param {string} inputId Element ID of the input file picker element.\n",
              " * @param {string} outputId Element ID of the output display.\n",
              " * @return {!Iterable<!Object>} Iterable of next steps.\n",
              " */\n",
              "function* uploadFilesStep(inputId, outputId) {\n",
              "  const inputElement = document.getElementById(inputId);\n",
              "  inputElement.disabled = false;\n",
              "\n",
              "  const outputElement = document.getElementById(outputId);\n",
              "  outputElement.innerHTML = '';\n",
              "\n",
              "  const pickedPromise = new Promise((resolve) => {\n",
              "    inputElement.addEventListener('change', (e) => {\n",
              "      resolve(e.target.files);\n",
              "    });\n",
              "  });\n",
              "\n",
              "  const cancel = document.createElement('button');\n",
              "  inputElement.parentElement.appendChild(cancel);\n",
              "  cancel.textContent = 'Cancel upload';\n",
              "  const cancelPromise = new Promise((resolve) => {\n",
              "    cancel.onclick = () => {\n",
              "      resolve(null);\n",
              "    };\n",
              "  });\n",
              "\n",
              "  // Wait for the user to pick the files.\n",
              "  const files = yield {\n",
              "    promise: Promise.race([pickedPromise, cancelPromise]),\n",
              "    response: {\n",
              "      action: 'starting',\n",
              "    }\n",
              "  };\n",
              "\n",
              "  cancel.remove();\n",
              "\n",
              "  // Disable the input element since further picks are not allowed.\n",
              "  inputElement.disabled = true;\n",
              "\n",
              "  if (!files) {\n",
              "    return {\n",
              "      response: {\n",
              "        action: 'complete',\n",
              "      }\n",
              "    };\n",
              "  }\n",
              "\n",
              "  for (const file of files) {\n",
              "    const li = document.createElement('li');\n",
              "    li.append(span(file.name, {fontWeight: 'bold'}));\n",
              "    li.append(span(\n",
              "        `(${file.type || 'n/a'}) - ${file.size} bytes, ` +\n",
              "        `last modified: ${\n",
              "            file.lastModifiedDate ? file.lastModifiedDate.toLocaleDateString() :\n",
              "                                    'n/a'} - `));\n",
              "    const percent = span('0% done');\n",
              "    li.appendChild(percent);\n",
              "\n",
              "    outputElement.appendChild(li);\n",
              "\n",
              "    const fileDataPromise = new Promise((resolve) => {\n",
              "      const reader = new FileReader();\n",
              "      reader.onload = (e) => {\n",
              "        resolve(e.target.result);\n",
              "      };\n",
              "      reader.readAsArrayBuffer(file);\n",
              "    });\n",
              "    // Wait for the data to be ready.\n",
              "    let fileData = yield {\n",
              "      promise: fileDataPromise,\n",
              "      response: {\n",
              "        action: 'continue',\n",
              "      }\n",
              "    };\n",
              "\n",
              "    // Use a chunked sending to avoid message size limits. See b/62115660.\n",
              "    let position = 0;\n",
              "    do {\n",
              "      const length = Math.min(fileData.byteLength - position, MAX_PAYLOAD_SIZE);\n",
              "      const chunk = new Uint8Array(fileData, position, length);\n",
              "      position += length;\n",
              "\n",
              "      const base64 = btoa(String.fromCharCode.apply(null, chunk));\n",
              "      yield {\n",
              "        response: {\n",
              "          action: 'append',\n",
              "          file: file.name,\n",
              "          data: base64,\n",
              "        },\n",
              "      };\n",
              "\n",
              "      let percentDone = fileData.byteLength === 0 ?\n",
              "          100 :\n",
              "          Math.round((position / fileData.byteLength) * 100);\n",
              "      percent.textContent = `${percentDone}% done`;\n",
              "\n",
              "    } while (position < fileData.byteLength);\n",
              "  }\n",
              "\n",
              "  // All done.\n",
              "  yield {\n",
              "    response: {\n",
              "      action: 'complete',\n",
              "    }\n",
              "  };\n",
              "}\n",
              "\n",
              "scope.google = scope.google || {};\n",
              "scope.google.colab = scope.google.colab || {};\n",
              "scope.google.colab._files = {\n",
              "  _uploadFiles,\n",
              "  _uploadFilesContinue,\n",
              "};\n",
              "})(self);\n",
              "</script> "
            ]
          },
          "metadata": {}
        },
        {
          "output_type": "stream",
          "name": "stdout",
          "text": [
            "Saving mlp_mnist_9x9.zip to mlp_mnist_9x9.zip\n"
          ]
        }
      ],
      "source": [
        "# Ανέβασε το αρχείο ZIP που σου έδωσε το ChatGPT\n",
        "from google.colab import files\n",
        "uploaded = files.upload()"
      ]
    },
    {
      "cell_type": "code",
      "execution_count": 3,
      "id": "36b39b57",
      "metadata": {
        "colab": {
          "base_uri": "https://localhost:8080/"
        },
        "id": "36b39b57",
        "outputId": "f31b9d04-0da3-466d-ea76-e752430ce3fe"
      },
      "outputs": [
        {
          "output_type": "stream",
          "name": "stdout",
          "text": [
            "Archive:  mlp_mnist_9x9.zip\n",
            "  inflating: mlp_mnist_9x9/evaluate.py  \n",
            "  inflating: mlp_mnist_9x9/README.md  \n",
            "  inflating: mlp_mnist_9x9/requirements.txt  \n",
            "  inflating: mlp_mnist_9x9/train.py  \n",
            "   creating: mlp_mnist_9x9/utils/\n",
            "  inflating: mlp_mnist_9x9/utils/preprocess.py  \n",
            "/content/mlp_mnist_9x9\n"
          ]
        }
      ],
      "source": [
        "# Αποσυμπίεση του ZIP\n",
        "!unzip mlp_mnist_9x9.zip -d mlp_mnist_9x9\n",
        "%cd mlp_mnist_9x9"
      ]
    },
    {
      "cell_type": "code",
      "execution_count": 4,
      "id": "6c41b62c",
      "metadata": {
        "colab": {
          "base_uri": "https://localhost:8080/"
        },
        "id": "6c41b62c",
        "outputId": "98eddecc-5346-423f-a213-5d62ee369065"
      },
      "outputs": [
        {
          "output_type": "stream",
          "name": "stdout",
          "text": [
            "Collecting absl-py==2.3.0 (from -r requirements.txt (line 1))\n",
            "  Downloading absl_py-2.3.0-py3-none-any.whl.metadata (2.4 kB)\n",
            "Requirement already satisfied: astunparse==1.6.3 in /usr/local/lib/python3.11/dist-packages (from -r requirements.txt (line 2)) (1.6.3)\n",
            "Requirement already satisfied: certifi==2025.4.26 in /usr/local/lib/python3.11/dist-packages (from -r requirements.txt (line 3)) (2025.4.26)\n",
            "Requirement already satisfied: charset-normalizer==3.4.2 in /usr/local/lib/python3.11/dist-packages (from -r requirements.txt (line 4)) (3.4.2)\n",
            "Collecting contourpy==1.3.0 (from -r requirements.txt (line 5))\n",
            "  Downloading contourpy-1.3.0-cp311-cp311-manylinux_2_17_x86_64.manylinux2014_x86_64.whl.metadata (5.4 kB)\n",
            "Requirement already satisfied: cycler==0.12.1 in /usr/local/lib/python3.11/dist-packages (from -r requirements.txt (line 6)) (0.12.1)\n",
            "Requirement already satisfied: flatbuffers==25.2.10 in /usr/local/lib/python3.11/dist-packages (from -r requirements.txt (line 7)) (25.2.10)\n",
            "Collecting fonttools==4.58.0 (from -r requirements.txt (line 8))\n",
            "  Downloading fonttools-4.58.0-cp311-cp311-manylinux_2_17_x86_64.manylinux2014_x86_64.whl.metadata (104 kB)\n",
            "\u001b[2K     \u001b[90m━━━━━━━━━━━━━━━━━━━━━━━━━━━━━━━━━━━━━━━\u001b[0m \u001b[32m104.5/104.5 kB\u001b[0m \u001b[31m6.0 MB/s\u001b[0m eta \u001b[36m0:00:00\u001b[0m\n",
            "\u001b[?25hRequirement already satisfied: gast==0.6.0 in /usr/local/lib/python3.11/dist-packages (from -r requirements.txt (line 9)) (0.6.0)\n",
            "Requirement already satisfied: google-pasta==0.2.0 in /usr/local/lib/python3.11/dist-packages (from -r requirements.txt (line 10)) (0.2.0)\n",
            "Collecting grpcio==1.73.0 (from -r requirements.txt (line 11))\n",
            "  Downloading grpcio-1.73.0-cp311-cp311-manylinux_2_17_x86_64.manylinux2014_x86_64.whl.metadata (3.8 kB)\n",
            "Requirement already satisfied: h5py==3.13.0 in /usr/local/lib/python3.11/dist-packages (from -r requirements.txt (line 12)) (3.13.0)\n",
            "Requirement already satisfied: idna==3.10 in /usr/local/lib/python3.11/dist-packages (from -r requirements.txt (line 13)) (3.10)\n",
            "Requirement already satisfied: imageio==2.37.0 in /usr/local/lib/python3.11/dist-packages (from -r requirements.txt (line 14)) (2.37.0)\n",
            "Requirement already satisfied: importlib_metadata==8.7.0 in /usr/local/lib/python3.11/dist-packages (from -r requirements.txt (line 15)) (8.7.0)\n",
            "Requirement already satisfied: importlib_resources==6.5.2 in /usr/local/lib/python3.11/dist-packages (from -r requirements.txt (line 16)) (6.5.2)\n",
            "Collecting joblib==1.5.0 (from -r requirements.txt (line 17))\n",
            "  Downloading joblib-1.5.0-py3-none-any.whl.metadata (5.6 kB)\n",
            "Collecting keras==3.10.0 (from -r requirements.txt (line 18))\n",
            "  Downloading keras-3.10.0-py3-none-any.whl.metadata (6.0 kB)\n",
            "Collecting kiwisolver==1.4.7 (from -r requirements.txt (line 19))\n",
            "  Downloading kiwisolver-1.4.7-cp311-cp311-manylinux_2_17_x86_64.manylinux2014_x86_64.whl.metadata (6.3 kB)\n",
            "Requirement already satisfied: lazy_loader==0.4 in /usr/local/lib/python3.11/dist-packages (from -r requirements.txt (line 20)) (0.4)\n",
            "Requirement already satisfied: libclang==18.1.1 in /usr/local/lib/python3.11/dist-packages (from -r requirements.txt (line 21)) (18.1.1)\n",
            "Requirement already satisfied: Markdown==3.8 in /usr/local/lib/python3.11/dist-packages (from -r requirements.txt (line 22)) (3.8)\n",
            "Requirement already satisfied: markdown-it-py==3.0.0 in /usr/local/lib/python3.11/dist-packages (from -r requirements.txt (line 23)) (3.0.0)\n",
            "Requirement already satisfied: MarkupSafe==3.0.2 in /usr/local/lib/python3.11/dist-packages (from -r requirements.txt (line 24)) (3.0.2)\n",
            "Collecting matplotlib==3.9.4 (from -r requirements.txt (line 25))\n",
            "  Downloading matplotlib-3.9.4-cp311-cp311-manylinux_2_17_x86_64.manylinux2014_x86_64.whl.metadata (11 kB)\n",
            "Requirement already satisfied: mdurl==0.1.2 in /usr/local/lib/python3.11/dist-packages (from -r requirements.txt (line 26)) (0.1.2)\n",
            "Collecting ml_dtypes==0.5.1 (from -r requirements.txt (line 27))\n",
            "  Downloading ml_dtypes-0.5.1-cp311-cp311-manylinux_2_17_x86_64.manylinux2014_x86_64.whl.metadata (21 kB)\n",
            "Requirement already satisfied: namex==0.1.0 in /usr/local/lib/python3.11/dist-packages (from -r requirements.txt (line 28)) (0.1.0)\n",
            "Collecting networkx==3.2.1 (from -r requirements.txt (line 29))\n",
            "  Downloading networkx-3.2.1-py3-none-any.whl.metadata (5.2 kB)\n",
            "Requirement already satisfied: numpy==2.0.2 in /usr/local/lib/python3.11/dist-packages (from -r requirements.txt (line 30)) (2.0.2)\n",
            "Requirement already satisfied: opt_einsum==3.4.0 in /usr/local/lib/python3.11/dist-packages (from -r requirements.txt (line 31)) (3.4.0)\n",
            "Requirement already satisfied: optree==0.16.0 in /usr/local/lib/python3.11/dist-packages (from -r requirements.txt (line 32)) (0.16.0)\n",
            "Collecting packaging==25.0 (from -r requirements.txt (line 33))\n",
            "  Downloading packaging-25.0-py3-none-any.whl.metadata (3.3 kB)\n",
            "Collecting pandas==1.1.5 (from -r requirements.txt (line 34))\n",
            "  Downloading pandas-1.1.5.tar.gz (5.2 MB)\n",
            "\u001b[2K     \u001b[90m━━━━━━━━━━━━━━━━━━━━━━━━━━━━━━━━━━━━━━━━\u001b[0m \u001b[32m5.2/5.2 MB\u001b[0m \u001b[31m81.2 MB/s\u001b[0m eta \u001b[36m0:00:00\u001b[0m\n",
            "\u001b[?25h  Installing build dependencies ... \u001b[?25l\u001b[?25hdone\n",
            "  Getting requirements to build wheel ... \u001b[?25l\u001b[?25hdone\n",
            "  Preparing metadata (pyproject.toml) ... \u001b[?25l\u001b[?25hdone\n",
            "Requirement already satisfied: pillow==11.2.1 in /usr/local/lib/python3.11/dist-packages (from -r requirements.txt (line 35)) (11.2.1)\n",
            "Requirement already satisfied: protobuf==5.29.5 in /usr/local/lib/python3.11/dist-packages (from -r requirements.txt (line 36)) (5.29.5)\n",
            "Requirement already satisfied: Pygments==2.19.1 in /usr/local/lib/python3.11/dist-packages (from -r requirements.txt (line 37)) (2.19.1)\n",
            "Requirement already satisfied: pyparsing==3.2.3 in /usr/local/lib/python3.11/dist-packages (from -r requirements.txt (line 38)) (3.2.3)\n",
            "Requirement already satisfied: python-dateutil==2.9.0.post0 in /usr/local/lib/python3.11/dist-packages (from -r requirements.txt (line 39)) (2.9.0.post0)\n",
            "Requirement already satisfied: pytz==2025.2 in /usr/local/lib/python3.11/dist-packages (from -r requirements.txt (line 40)) (2025.2)\n",
            "Collecting requests==2.32.4 (from -r requirements.txt (line 41))\n",
            "  Downloading requests-2.32.4-py3-none-any.whl.metadata (4.9 kB)\n",
            "Collecting rich==14.0.0 (from -r requirements.txt (line 42))\n",
            "  Downloading rich-14.0.0-py3-none-any.whl.metadata (18 kB)\n",
            "Collecting scikit-image==0.24.0 (from -r requirements.txt (line 43))\n",
            "  Downloading scikit_image-0.24.0-cp311-cp311-manylinux_2_17_x86_64.manylinux2014_x86_64.whl.metadata (14 kB)\n",
            "Collecting scikit-learn==0.24.2 (from -r requirements.txt (line 44))\n",
            "  Downloading scikit-learn-0.24.2.tar.gz (7.5 MB)\n",
            "\u001b[2K     \u001b[90m━━━━━━━━━━━━━━━━━━━━━━━━━━━━━━━━━━━━━━━━\u001b[0m \u001b[32m7.5/7.5 MB\u001b[0m \u001b[31m110.6 MB/s\u001b[0m eta \u001b[36m0:00:00\u001b[0m\n",
            "\u001b[?25h  Installing build dependencies ... \u001b[?25l\u001b[?25hdone\n",
            "  Getting requirements to build wheel ... \u001b[?25l\u001b[?25hdone\n",
            "  \u001b[1;31merror\u001b[0m: \u001b[1msubprocess-exited-with-error\u001b[0m\n",
            "  \n",
            "  \u001b[31m×\u001b[0m \u001b[32mPreparing metadata \u001b[0m\u001b[1;32m(\u001b[0m\u001b[32mpyproject.toml\u001b[0m\u001b[1;32m)\u001b[0m did not run successfully.\n",
            "  \u001b[31m│\u001b[0m exit code: \u001b[1;36m1\u001b[0m\n",
            "  \u001b[31m╰─>\u001b[0m See above for output.\n",
            "  \n",
            "  \u001b[1;35mnote\u001b[0m: This error originates from a subprocess, and is likely not a problem with pip.\n",
            "  Preparing metadata (pyproject.toml) ... \u001b[?25l\u001b[?25herror\n",
            "\u001b[1;31merror\u001b[0m: \u001b[1mmetadata-generation-failed\u001b[0m\n",
            "\n",
            "\u001b[31m×\u001b[0m Encountered error while generating package metadata.\n",
            "\u001b[31m╰─>\u001b[0m See above for output.\n",
            "\n",
            "\u001b[1;35mnote\u001b[0m: This is an issue with the package mentioned above, not pip.\n",
            "\u001b[1;36mhint\u001b[0m: See above for details.\n"
          ]
        }
      ],
      "source": [
        "# Εγκατάσταση απαιτήσεων\n",
        "!pip install -r requirements.txt"
      ]
    },
    {
      "cell_type": "code",
      "execution_count": 5,
      "id": "ef271d32",
      "metadata": {
        "colab": {
          "base_uri": "https://localhost:8080/"
        },
        "id": "ef271d32",
        "outputId": "1f0093c4-4ac3-4bb3-e403-3dc6b924b08f"
      },
      "outputs": [
        {
          "output_type": "stream",
          "name": "stdout",
          "text": [
            "2025-06-10 22:52:41.067288: E external/local_xla/xla/stream_executor/cuda/cuda_fft.cc:477] Unable to register cuFFT factory: Attempting to register factory for plugin cuFFT when one has already been registered\n",
            "WARNING: All log messages before absl::InitializeLog() is called are written to STDERR\n",
            "E0000 00:00:1749595961.091351    2524 cuda_dnn.cc:8310] Unable to register cuDNN factory: Attempting to register factory for plugin cuDNN when one has already been registered\n",
            "E0000 00:00:1749595961.098395    2524 cuda_blas.cc:1418] Unable to register cuBLAS factory: Attempting to register factory for plugin cuBLAS when one has already been registered\n",
            "2025-06-10 22:52:41.121910: I tensorflow/core/platform/cpu_feature_guard.cc:210] This TensorFlow binary is optimized to use available CPU instructions in performance-critical operations.\n",
            "To enable the following instructions: AVX2 FMA, in other operations, rebuild TensorFlow with the appropriate compiler flags.\n",
            "Downloading data from https://storage.googleapis.com/tensorflow/tf-keras-datasets/mnist.npz\n",
            "\u001b[1m11490434/11490434\u001b[0m \u001b[32m━━━━━━━━━━━━━━━━━━━━\u001b[0m\u001b[37m\u001b[0m \u001b[1m0s\u001b[0m 0us/step\n",
            "/usr/local/lib/python3.11/dist-packages/keras/src/layers/reshaping/flatten.py:37: UserWarning: Do not pass an `input_shape`/`input_dim` argument to a layer. When using Sequential models, prefer using an `Input(shape)` object as the first layer in the model instead.\n",
            "  super().__init__(**kwargs)\n",
            "2025-06-10 22:53:01.809603: E external/local_xla/xla/stream_executor/cuda/cuda_driver.cc:152] failed call to cuInit: INTERNAL: CUDA error: Failed call to cuInit: UNKNOWN ERROR (303)\n",
            "\u001b[1mModel: \"sequential\"\u001b[0m\n",
            "┏━━━━━━━━━━━━━━━━━━━━━━━━━━━━━━━━━┳━━━━━━━━━━━━━━━━━━━━━━━━┳━━━━━━━━━━━━━━━┓\n",
            "┃\u001b[1m \u001b[0m\u001b[1mLayer (type)                   \u001b[0m\u001b[1m \u001b[0m┃\u001b[1m \u001b[0m\u001b[1mOutput Shape          \u001b[0m\u001b[1m \u001b[0m┃\u001b[1m \u001b[0m\u001b[1m      Param #\u001b[0m\u001b[1m \u001b[0m┃\n",
            "┡━━━━━━━━━━━━━━━━━━━━━━━━━━━━━━━━━╇━━━━━━━━━━━━━━━━━━━━━━━━╇━━━━━━━━━━━━━━━┩\n",
            "│ flatten (\u001b[94mFlatten\u001b[0m)               │ (\u001b[96mNone\u001b[0m, \u001b[32m81\u001b[0m)             │             \u001b[32m0\u001b[0m │\n",
            "├─────────────────────────────────┼────────────────────────┼───────────────┤\n",
            "│ dense (\u001b[94mDense\u001b[0m)                   │ (\u001b[96mNone\u001b[0m, \u001b[32m100\u001b[0m)            │         \u001b[32m8,200\u001b[0m │\n",
            "├─────────────────────────────────┼────────────────────────┼───────────────┤\n",
            "│ dense_1 (\u001b[94mDense\u001b[0m)                 │ (\u001b[96mNone\u001b[0m, \u001b[32m10\u001b[0m)             │         \u001b[32m1,010\u001b[0m │\n",
            "└─────────────────────────────────┴────────────────────────┴───────────────┘\n",
            "\u001b[1m Total params: \u001b[0m\u001b[32m9,210\u001b[0m (35.98 KB)\n",
            "\u001b[1m Trainable params: \u001b[0m\u001b[32m9,210\u001b[0m (35.98 KB)\n",
            "\u001b[1m Non-trainable params: \u001b[0m\u001b[32m0\u001b[0m (0.00 B)\n",
            "Epoch 1/10\n",
            "\u001b[1m844/844\u001b[0m \u001b[32m━━━━━━━━━━━━━━━━━━━━\u001b[0m\u001b[37m\u001b[0m \u001b[1m3s\u001b[0m 2ms/step - accuracy: 0.7324 - loss: 1.0979 - val_accuracy: 0.9225 - val_loss: 0.2772\n",
            "Epoch 2/10\n",
            "\u001b[1m844/844\u001b[0m \u001b[32m━━━━━━━━━━━━━━━━━━━━\u001b[0m\u001b[37m\u001b[0m \u001b[1m2s\u001b[0m 2ms/step - accuracy: 0.9074 - loss: 0.3248 - val_accuracy: 0.9383 - val_loss: 0.2200\n",
            "Epoch 3/10\n",
            "\u001b[1m844/844\u001b[0m \u001b[32m━━━━━━━━━━━━━━━━━━━━\u001b[0m\u001b[37m\u001b[0m \u001b[1m2s\u001b[0m 2ms/step - accuracy: 0.9230 - loss: 0.2643 - val_accuracy: 0.9473 - val_loss: 0.1892\n",
            "Epoch 4/10\n",
            "\u001b[1m844/844\u001b[0m \u001b[32m━━━━━━━━━━━━━━━━━━━━\u001b[0m\u001b[37m\u001b[0m \u001b[1m3s\u001b[0m 3ms/step - accuracy: 0.9311 - loss: 0.2290 - val_accuracy: 0.9518 - val_loss: 0.1731\n",
            "Epoch 5/10\n",
            "\u001b[1m844/844\u001b[0m \u001b[32m━━━━━━━━━━━━━━━━━━━━\u001b[0m\u001b[37m\u001b[0m \u001b[1m2s\u001b[0m 2ms/step - accuracy: 0.9380 - loss: 0.2057 - val_accuracy: 0.9575 - val_loss: 0.1575\n",
            "Epoch 6/10\n",
            "\u001b[1m844/844\u001b[0m \u001b[32m━━━━━━━━━━━━━━━━━━━━\u001b[0m\u001b[37m\u001b[0m \u001b[1m2s\u001b[0m 2ms/step - accuracy: 0.9441 - loss: 0.1907 - val_accuracy: 0.9603 - val_loss: 0.1467\n",
            "Epoch 7/10\n",
            "\u001b[1m844/844\u001b[0m \u001b[32m━━━━━━━━━━━━━━━━━━━━\u001b[0m\u001b[37m\u001b[0m \u001b[1m2s\u001b[0m 2ms/step - accuracy: 0.9512 - loss: 0.1661 - val_accuracy: 0.9645 - val_loss: 0.1369\n",
            "Epoch 8/10\n",
            "\u001b[1m844/844\u001b[0m \u001b[32m━━━━━━━━━━━━━━━━━━━━\u001b[0m\u001b[37m\u001b[0m \u001b[1m3s\u001b[0m 2ms/step - accuracy: 0.9540 - loss: 0.1580 - val_accuracy: 0.9667 - val_loss: 0.1290\n",
            "Epoch 9/10\n",
            "\u001b[1m844/844\u001b[0m \u001b[32m━━━━━━━━━━━━━━━━━━━━\u001b[0m\u001b[37m\u001b[0m \u001b[1m3s\u001b[0m 2ms/step - accuracy: 0.9558 - loss: 0.1474 - val_accuracy: 0.9650 - val_loss: 0.1249\n",
            "Epoch 10/10\n",
            "\u001b[1m844/844\u001b[0m \u001b[32m━━━━━━━━━━━━━━━━━━━━\u001b[0m\u001b[37m\u001b[0m \u001b[1m3s\u001b[0m 2ms/step - accuracy: 0.9579 - loss: 0.1410 - val_accuracy: 0.9688 - val_loss: 0.1169\n",
            "WARNING:absl:You are saving your model as an HDF5 file via `model.save()` or `keras.saving.save_model(model)`. This file format is considered legacy. We recommend using instead the native Keras format, e.g. `model.save('my_model.keras')` or `keras.saving.save_model(model, 'my_model.keras')`. \n"
          ]
        }
      ],
      "source": [
        "# Εκπαίδευση του MLP\n",
        "!python train.py"
      ]
    },
    {
      "cell_type": "code",
      "execution_count": 6,
      "id": "8cf4c416",
      "metadata": {
        "colab": {
          "base_uri": "https://localhost:8080/"
        },
        "id": "8cf4c416",
        "outputId": "1ca13705-955e-4b34-f9b7-519e1f748a38"
      },
      "outputs": [
        {
          "output_type": "stream",
          "name": "stdout",
          "text": [
            "2025-06-10 22:53:48.648850: E external/local_xla/xla/stream_executor/cuda/cuda_fft.cc:477] Unable to register cuFFT factory: Attempting to register factory for plugin cuFFT when one has already been registered\n",
            "WARNING: All log messages before absl::InitializeLog() is called are written to STDERR\n",
            "E0000 00:00:1749596028.686943    2970 cuda_dnn.cc:8310] Unable to register cuDNN factory: Attempting to register factory for plugin cuDNN when one has already been registered\n",
            "E0000 00:00:1749596028.698402    2970 cuda_blas.cc:1418] Unable to register cuBLAS factory: Attempting to register factory for plugin cuBLAS when one has already been registered\n",
            "2025-06-10 22:53:48.735168: I tensorflow/core/platform/cpu_feature_guard.cc:210] This TensorFlow binary is optimized to use available CPU instructions in performance-critical operations.\n",
            "To enable the following instructions: AVX2 FMA, in other operations, rebuild TensorFlow with the appropriate compiler flags.\n",
            "2025-06-10 22:54:09.146727: E external/local_xla/xla/stream_executor/cuda/cuda_driver.cc:152] failed call to cuInit: INTERNAL: CUDA error: Failed call to cuInit: UNKNOWN ERROR (303)\n",
            "WARNING:absl:Compiled the loaded model, but the compiled metrics have yet to be built. `model.compile_metrics` will be empty until you train or evaluate the model.\n",
            "\u001b[1m313/313\u001b[0m \u001b[32m━━━━━━━━━━━━━━━━━━━━\u001b[0m\u001b[37m\u001b[0m \u001b[1m1s\u001b[0m 1ms/step - accuracy: 0.9548 - loss: 0.1460\n",
            "Test accuracy: 96.13%\n"
          ]
        }
      ],
      "source": [
        "# Αξιολόγηση του μοντέλου\n",
        "!python evaluate.py"
      ]
    },
    {
      "cell_type": "markdown",
      "id": "39bdb7b0",
      "metadata": {
        "id": "39bdb7b0"
      },
      "source": [
        "Μπορείς να συνεχίσεις με quantization ή εξαγωγή TFLite αρχείου αφού ολοκληρωθεί η εκπαίδευση.\n",
        "\n",
        "> Προσθήκη blockquote\n",
        "\n"
      ]
    },
    {
      "cell_type": "code",
      "source": [
        "import tensorflow as tf\n",
        "import numpy as np\n",
        "\n",
        "# Φόρτωση του εκπαιδευμένου μοντέλου\n",
        "model = tf.keras.models.load_model('models/best_model.h5')\n",
        "\n",
        "for i, layer in enumerate(model.layers):\n",
        "    if isinstance(layer, tf.keras.layers.Dense):\n",
        "        weights, biases = layer.get_weights()\n",
        "        print(f\"\\n# Layer {i} ({layer.name})\")\n",
        "        print(f\"Weights shape: {weights.shape}\")\n",
        "        print(\"Weights:\")\n",
        "        print(np.round(weights * 128).astype(int))  # Quantize σε Q7 (7 bits για fraction)\n",
        "        print(\"Biases:\")\n",
        "        print(np.round(biases * 128).astype(int))"
      ],
      "metadata": {
        "colab": {
          "base_uri": "https://localhost:8080/"
        },
        "id": "h2ufO-2TD1VX",
        "outputId": "9c125b69-f279-49f6-b1fd-e4ea201a3d87"
      },
      "id": "h2ufO-2TD1VX",
      "execution_count": 8,
      "outputs": [
        {
          "output_type": "stream",
          "name": "stderr",
          "text": [
            "WARNING:absl:Compiled the loaded model, but the compiled metrics have yet to be built. `model.compile_metrics` will be empty until you train or evaluate the model.\n"
          ]
        },
        {
          "output_type": "stream",
          "name": "stdout",
          "text": [
            "\n",
            "# Layer 1 (dense)\n",
            "Weights shape: (81, 100)\n",
            "Weights:\n",
            "[[  34  -27   28 ...    1   26   12]\n",
            " [  34  -92  -23 ...  -21    4   -5]\n",
            " [  49 -129  -37 ...  -89   31   49]\n",
            " ...\n",
            " [  77    8  -64 ...  -81  -37  -51]\n",
            " [  68   47  -26 ...  -23  -71   -7]\n",
            " [  -4   34  -43 ...   26   20  -12]]\n",
            "Biases:\n",
            "[ 17  34   1  15   5  13  10  20   1  22   1  18 -12  12   1  32  18 -10\n",
            "  -3  23   1  26  28  27  -2  -2   6  -9 -19   7  18   9  13   6  16   6\n",
            "  32  19  11  -3   8   7  36  22  14  -8  32  19  11  23   1  24  -4  22\n",
            "   5  11  13  -2   7  17 -18   6  25   7  14  28  10  -6   3  11   0  26\n",
            " -11  18   0  -4  36  -1  29   4  17  10  16  40  -6  11  17  57  16  -6\n",
            " -16   3  -2  21  -3   0   2  10  -4  25]\n",
            "\n",
            "# Layer 2 (dense_1)\n",
            "Weights shape: (100, 10)\n",
            "Weights:\n",
            "[[  76   27 -218  -23   11   70   25   98 -111   14]\n",
            " [ -37 -116   71  -15   40   72 -176   78  -66   11]\n",
            " [  52  -63  -16  -28   28    1   32   47   27  -50]\n",
            " [ -26 -131   75  -99   29   18   60 -114   42   44]\n",
            " [  57   25   70   23 -149   57   16  -51   19 -102]\n",
            " [  12   25  -39   30   24   -4 -120   22   28   22]\n",
            " [  -5   24   35   10    3 -142 -126   45   32   20]\n",
            " [ -67   46   46   28  -48   11  -43  -45   11  -66]\n",
            " [  32  -60   69   -1  -38   57  -40   30  -27  -78]\n",
            " [ -85   48   31    3  -72  -24   67   84  -17 -127]\n",
            " [  18 -103  -14   26  -33  -60 -124   71   -3   18]\n",
            " [  55   13 -225  -10   59   78   88  -92  -15   25]\n",
            " [  54  -18  108   40 -261    5  -60  -56   49   -7]\n",
            " [  -5   -7  117  -58   46  -20   27  -53  -92  -63]\n",
            " [  -5  -86   25  -13   43  -15   -1    5   35   29]\n",
            " [  40   17 -219  -27   20   72    7  -18    9   63]\n",
            " [ -84   10  -40  -22   39    0   66  -27   49   13]\n",
            " [ 111  148   47   42  -87 -249  -80   72 -106   91]\n",
            " [ -20  -24  -13   18  -22  -19   -7    5   -9   18]\n",
            " [-117  -17   24   -3   35 -205  -16   63   20   19]\n",
            " [  16   65   25   78  100 -290  -39   50  -19  -96]\n",
            " [-251   95   -6  118   18   -3  -65 -111 -114  -18]\n",
            " [   2    6  101  -66  -62   40 -101   42   37  -36]\n",
            " [  21   56  -13  -11 -113   40   35   49  -34  -87]\n",
            " [ -26  -84   -6   11 -239  102  -94   40    4   24]\n",
            " [ -57  -63   25   39   40  -15  -36  -50    5   45]\n",
            " [  28    8  -11   29  -43   28  -23  -46   42  -65]\n",
            " [  65   67   53  -43   91 -220   16  -68  -91   81]\n",
            " [-111  -77  -60   51   -7   39 -188 -245  -31   93]\n",
            " [  48  -78   31  -41  -73   27  -56  -76   38   14]\n",
            " [ -24    8   60   21   12    3   46 -103   25  -45]\n",
            " [ -79   -9   22   35  107   36 -176  -31  -22  -43]\n",
            " [   4  -48   16   33   41   23    7  -43  -27  -33]\n",
            " [  15   -9   73   39   64    3   13   20 -129 -123]\n",
            " [   5   -2  -52   62   12    0 -121   43  -32   54]\n",
            " [ -28   -3  131  -32  -83  -89 -155   77  -10    9]\n",
            " [  42  -12   84 -108   65  -48   62   -6  -55   15]\n",
            " [ -62   29   10   29   -2  -19  -40  -81   21  -82]\n",
            " [  33   11   42  -94 -124   23    2  -52   43  -12]\n",
            " [  45   -4  -30  -13   12    0  -34  -71   55  -61]\n",
            " [ -26 -103  -48    9   55   27   32  -34   27   31]\n",
            " [  52  -92   15  -84   47  -34   47  -12   22   12]\n",
            " [ -15   97  -50    5   74   11   19   88  -94 -128]\n",
            " [-102   38  -31 -256   43   53  121  -45   43   50]\n",
            " [  57  -91   23  -41  -59  -50   23   51  -70   52]\n",
            " [  25   38  -37   36   48 -140  -37   43   23   35]\n",
            " [ -84  -82  -51   86   28   24 -145   51 -114   18]\n",
            " [ 126  159   73  -38 -196  114  -21 -101 -277  -24]\n",
            " [  21  -75  -64   -6   19   14    7   47   34   18]\n",
            " [ -84   41   33   62   10  -55 -124   31    7   31]\n",
            " [  23  -67   51   36  -42    7   67  -15   16 -143]\n",
            " [  46  104   53 -156   -4 -206  -54  -45  -31  111]\n",
            " [  42  -87  -33   51  -41  -34   47  -30  -12   13]\n",
            " [ -37    3    7   29  -81   43  -86   -3   30  -43]\n",
            " [   5  -64   56  -42    2  -46  -27   39   46    8]\n",
            " [ -10    1   37  -32  -45   56   46   71  -54 -216]\n",
            " [-153   39    7  -75  -25   19   34  -83   65   43]\n",
            " [  48   91  -59  -35   29  -69   36   86 -144  -25]\n",
            " [  48  -96   22   65  -20   28   37 -119  -20 -138]\n",
            " [ -28   27   38  -16  -43  -33   44  -83  -10   -4]\n",
            " [  28  -41    8  -24   -5   28   22 -120   35   50]\n",
            " [ -54  -34  -47   63  -20  -14  -88    9   32  -16]\n",
            " [  21  -39   70  -40   38  -10 -152  103 -166    9]\n",
            " [  49  -31  -83    7   10   45    5   72  -95  -13]\n",
            " [ -54   24  -17   32  -99  -48   18   -9   38   17]\n",
            " [ -91  -60   26  -58   42  -21  -22   30   -6   32]\n",
            " [  16  -73 -159  -20   61   65   72  -59  -30   24]\n",
            " [  29  118   -1  -21  -43  -26  -30   -5 -116   63]\n",
            " [ -88   85 -123  -37   43   32   63  -39  -28   15]\n",
            " [ -56   47   38   77    2   45 -123   83  -57  -98]\n",
            " [  45  -98  -40   31   -8  -10  -55   27    8   24]\n",
            " [ -72   10  -58   43   16  -69   86   48  -28   12]\n",
            " [  49   46   -4  -49   59 -171   46   -1   19   26]\n",
            " [ -65   59   12   -1   31   -2   45 -101   46    4]\n",
            " [  64  -83   26  -26   62  -34   69  -79 -159   35]\n",
            " [ -21  -31  -16  -40   39  -34  -53    1   51   48]\n",
            " [ -99   89 -198 -148  -28  105   31   60  -67   35]\n",
            " [-162  140   91   -8 -203   91   18   65  -45 -174]\n",
            " [ -72  -20   61   27  -43   56   57  -49  -33 -222]\n",
            " [ -61  -65    1  -11  -98   64   23   17   43  -22]\n",
            " [  58  -60   43  -65   -2   24    8  -35  -44   -4]\n",
            " [ -31  -83   -4  -14   59   30   -1   13   40  -20]\n",
            " [-179  -65  -67   57   67   98  -97 -139   67    6]\n",
            " [  17  124   95  -50   40   -2 -171   -5 -264   88]\n",
            " [  15  -48  -47  -24  -68   28   39  -92   12   25]\n",
            " [  45 -119   -2  -12  -35  -21   47   73  -37   35]\n",
            " [-127   45   63    2  -94  -38   39  135  -96 -128]\n",
            " [  -9   48 -165 -105 -152  147    8  -66  -74   80]\n",
            " [   5  -43  -71   31  -12  -14  -42   67  -44   57]\n",
            " [  10   -1  -15  -10    7    5   15   23    4   -9]\n",
            " [ -58  -37    9   51  -66    7  -28  -26   39   34]\n",
            " [  44  -44   20   46 -177  -13    3   54   -3   -2]\n",
            " [  58  -90  -33  -35  -44  -35   35    1   10   64]\n",
            " [ -84  -42 -110  -28   68   50  -37   49   49   -9]\n",
            " [   8   28   -1  -57  -19  -95   67  -80   71   11]\n",
            " [  43    6   57  -36  -35 -100   23   58  -46   -8]\n",
            " [   0  -72   -5   50  -36   39  -51    3   43   15]\n",
            " [  61   13  -40  -61   61   20   23   26    2 -132]\n",
            " [ -22   31   30   34   -2    9    8   48   49 -162]\n",
            " [ -42   47  -39 -192   67   71  101   49   60 -204]]\n",
            "Biases:\n",
            "[-30   5  10  -2  -5   4  -3  14  -4  -2]\n"
          ]
        }
      ]
    },
    {
      "cell_type": "code",
      "source": [
        "import tensorflow as tf\n",
        "from utils.preprocess import load_and_downsample\n",
        "\n",
        "# Φόρτωση του εκπαιδευμένου μοντέλου\n",
        "model = tf.keras.models.load_model('models/best_model.h5')\n",
        "\n",
        "# Φόρτωση test set (για representative dataset)\n",
        "(_, _), (x_test, _) = load_and_downsample()\n",
        "\n",
        "# Representative dataset για quantization (απαιτείται για int8)\n",
        "def representative_data_gen():\n",
        "    for i in range(100):\n",
        "        img = x_test[i:i+1]\n",
        "        yield [img.astype(np.float32)]\n",
        "\n",
        "# Converter\n",
        "converter = tf.lite.TFLiteConverter.from_keras_model(model)\n",
        "converter.optimizations = [tf.lite.Optimize.DEFAULT]\n",
        "converter.representative_dataset = representative_data_gen\n",
        "converter.target_spec.supported_ops = [tf.lite.OpsSet.TFLITE_BUILTINS_INT8]\n",
        "\n",
        "# Όλα int8\n",
        "converter.inference_input_type = tf.int8\n",
        "converter.inference_output_type = tf.int8\n",
        "\n",
        "# Convert and save\n",
        "tflite_model = converter.convert()\n",
        "with open(\"models/mlp_9x9_quant.tflite\", \"wb\") as f:\n",
        "    f.write(tflite_model)"
      ],
      "metadata": {
        "colab": {
          "base_uri": "https://localhost:8080/"
        },
        "id": "AfxA2Yi3Ek-k",
        "outputId": "b568b438-076f-4b7c-9401-bd294d6aef7d"
      },
      "id": "AfxA2Yi3Ek-k",
      "execution_count": 10,
      "outputs": [
        {
          "output_type": "stream",
          "name": "stderr",
          "text": [
            "WARNING:absl:Compiled the loaded model, but the compiled metrics have yet to be built. `model.compile_metrics` will be empty until you train or evaluate the model.\n"
          ]
        },
        {
          "output_type": "stream",
          "name": "stdout",
          "text": [
            "Saved artifact at '/tmp/tmpzdo9uomi'. The following endpoints are available:\n",
            "\n",
            "* Endpoint 'serve'\n",
            "  args_0 (POSITIONAL_ONLY): TensorSpec(shape=(None, 9, 9), dtype=tf.float32, name='input_layer')\n",
            "Output Type:\n",
            "  TensorSpec(shape=(None, 10), dtype=tf.float32, name=None)\n",
            "Captures:\n",
            "  133061420329168: TensorSpec(shape=(), dtype=tf.resource, name=None)\n",
            "  133061420331664: TensorSpec(shape=(), dtype=tf.resource, name=None)\n",
            "  133061420331088: TensorSpec(shape=(), dtype=tf.resource, name=None)\n",
            "  133061420332624: TensorSpec(shape=(), dtype=tf.resource, name=None)\n"
          ]
        },
        {
          "output_type": "stream",
          "name": "stderr",
          "text": [
            "/usr/local/lib/python3.11/dist-packages/tensorflow/lite/python/convert.py:997: UserWarning: Statistics for quantized inputs were expected, but not specified; continuing anyway.\n",
            "  warnings.warn(\n"
          ]
        }
      ]
    },
    {
      "cell_type": "code",
      "source": [
        "from google.colab import files\n",
        "files.download(\"models/mlp_9x9_quant.tflite\")"
      ],
      "metadata": {
        "colab": {
          "base_uri": "https://localhost:8080/",
          "height": 17
        },
        "id": "F1sTlzhPEjYt",
        "outputId": "bccb8c01-d651-42ec-8165-b663ea6feaae"
      },
      "id": "F1sTlzhPEjYt",
      "execution_count": 11,
      "outputs": [
        {
          "output_type": "display_data",
          "data": {
            "text/plain": [
              "<IPython.core.display.Javascript object>"
            ],
            "application/javascript": [
              "\n",
              "    async function download(id, filename, size) {\n",
              "      if (!google.colab.kernel.accessAllowed) {\n",
              "        return;\n",
              "      }\n",
              "      const div = document.createElement('div');\n",
              "      const label = document.createElement('label');\n",
              "      label.textContent = `Downloading \"${filename}\": `;\n",
              "      div.appendChild(label);\n",
              "      const progress = document.createElement('progress');\n",
              "      progress.max = size;\n",
              "      div.appendChild(progress);\n",
              "      document.body.appendChild(div);\n",
              "\n",
              "      const buffers = [];\n",
              "      let downloaded = 0;\n",
              "\n",
              "      const channel = await google.colab.kernel.comms.open(id);\n",
              "      // Send a message to notify the kernel that we're ready.\n",
              "      channel.send({})\n",
              "\n",
              "      for await (const message of channel.messages) {\n",
              "        // Send a message to notify the kernel that we're ready.\n",
              "        channel.send({})\n",
              "        if (message.buffers) {\n",
              "          for (const buffer of message.buffers) {\n",
              "            buffers.push(buffer);\n",
              "            downloaded += buffer.byteLength;\n",
              "            progress.value = downloaded;\n",
              "          }\n",
              "        }\n",
              "      }\n",
              "      const blob = new Blob(buffers, {type: 'application/binary'});\n",
              "      const a = document.createElement('a');\n",
              "      a.href = window.URL.createObjectURL(blob);\n",
              "      a.download = filename;\n",
              "      div.appendChild(a);\n",
              "      a.click();\n",
              "      div.remove();\n",
              "    }\n",
              "  "
            ]
          },
          "metadata": {}
        },
        {
          "output_type": "display_data",
          "data": {
            "text/plain": [
              "<IPython.core.display.Javascript object>"
            ],
            "application/javascript": [
              "download(\"download_8b2d0611-4320-430c-94e4-71f3428f8538\", \"mlp_9x9_quant.tflite\", 14464)"
            ]
          },
          "metadata": {}
        }
      ]
    }
  ],
  "metadata": {
    "colab": {
      "provenance": [],
      "include_colab_link": true
    },
    "language_info": {
      "name": "python"
    },
    "kernelspec": {
      "name": "python3",
      "display_name": "Python 3"
    }
  },
  "nbformat": 4,
  "nbformat_minor": 5
}